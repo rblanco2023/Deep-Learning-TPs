{
 "cells": [
  {
   "cell_type": "markdown",
   "metadata": {},
   "source": [
    "Algoritmo SGD.\n",
    "\n",
    "\t-Iniciar parámetros random\n",
    "\t-For epochs in range (cantidad de epocs)\n",
    "\t-For \ti in range (cantidad de filas del vector input) -- stocastic\n",
    "\t\ti in range (1<i<cantidad de filas del vector input) -- mini batch\n",
    "\t\ti in range (i=cantidad de filas del vector input) -- vanila SGD\n",
    "\t\t\tforward propagation\n",
    "\t\t\terror = y-y_hat\n",
    "\t\t\tbackprapagation\n",
    "\t\t\tupdate pesos  --> W=W-lr*Grad(J)\n",
    "\t\tcalcular MSE = 1/n * sum(y-y_hat)^2"
   ]
  },
  {
   "cell_type": "markdown",
   "metadata": {},
   "source": [
    "𝑦 = − (𝑥 − 2)^2 +3"
   ]
  },
  {
   "cell_type": "markdown",
   "metadata": {},
   "source": [
    "𝑦' = −2(𝑥 − 2) = 0\n",
    "\n",
    "Mi función a implementar es y' y el gradiente será y''.\n",
    "\n",
    "Entonces mi entrada es X y mi salida es Y'=0"
   ]
  },
  {
   "cell_type": "code",
   "execution_count": 1,
   "metadata": {},
   "outputs": [],
   "source": [
    "import numpy as np\n",
    "from matplotlib import pyplot as plt"
   ]
  },
  {
   "cell_type": "code",
   "execution_count": 2,
   "metadata": {},
   "outputs": [
    {
     "data": {
      "image/png": "[encoded data removed]",
      "text/plain": [
       "<Figure size 432x288 with 1 Axes>"
      ]
     },
     "metadata": {
      "needs_background": "light"
     },
     "output_type": "display_data"
    }
   ],
   "source": [
    "X = np.arange(-200,200,0.05)\n",
    "Y = -1*np.power((X - 2),2)+3\n",
    "\n",
    "fig, ax =plt.subplots()\n",
    "ax.plot(X,Y)\n",
    "ax.grid()"
   ]
  },
  {
   "cell_type": "markdown",
   "metadata": {},
   "source": [
    "Inicializo los parámetros"
   ]
  },
  {
   "cell_type": "code",
   "execution_count": 3,
   "metadata": {},
   "outputs": [],
   "source": [
    "lr = 0.02\n",
    "min_grad = 0.00000000000001\n",
    "start = -200\n",
    "epochs = 3000"
   ]
  },
  {
   "cell_type": "markdown",
   "metadata": {},
   "source": [
    "Cálculos"
   ]
  },
  {
   "cell_type": "code",
   "execution_count": 4,
   "metadata": {},
   "outputs": [
    {
     "name": "stdout",
     "output_type": "stream",
     "text": [
      "El punto próximo a (1.9999999999999953,3.0) tiene pendiente < +- 1e-14 y es el máximo de la función\n"
     ]
    }
   ],
   "source": [
    "x = start\n",
    "for i in range(epochs):\n",
    "    y = -(x-2)**2 + 3\n",
    "    dy_dx = -2*(x-2)\n",
    "    x = x + lr*dy_dx\n",
    "    if np.abs(dy_dx) <= min_grad:\n",
    "        print('El punto próximo a ({},{})'.format(x , -(x-2)**2 + 3), 'tiene pendiente < +- {} y es el máximo de la función'.format(min_grad))\n",
    "        break"
   ]
  },
  {
   "cell_type": "markdown",
   "metadata": {},
   "source": [
    "2. Mini-Batch Gradient Descent para entrenar un modelo cuadrático"
   ]
  },
  {
   "cell_type": "markdown",
   "metadata": {},
   "source": [
    "a) Crear un dataset sintético con 10,000 muestras a partir de la siguiente expresión (donde “x” es la feature que toma valores entre 0 y 4, e “y” es la salida):"
   ]
  },
  {
   "cell_type": "code",
   "execution_count": 5,
   "metadata": {},
   "outputs": [],
   "source": [
    "X = np.linspace(0,4,10000)\n",
    "Y = - ( X - 2)**2 + 3 + 0.2 + np.sin( 16 * X)"
   ]
  },
  {
   "cell_type": "code",
   "execution_count": 6,
   "metadata": {},
   "outputs": [
    {
     "data": {
      "image/png": "[encoded data removed]",
      "text/plain": [
       "<Figure size 432x288 with 1 Axes>"
      ]
     },
     "metadata": {
      "needs_background": "light"
     },
     "output_type": "display_data"
    }
   ],
   "source": [
    "fig, ax =plt.subplots()\n",
    "ax.scatter(X,Y, color = 'red')\n",
    "ax.grid()"
   ]
  },
  {
   "cell_type": "markdown",
   "metadata": {},
   "source": [
    "b) Suponer que se tiene un modelo, tal que la relación entre la salida y la entrada está dada por la ecuación presentada a continuación. Suponiendo que se va a utilizar mini-batch SGD para encontrar los valores óptimos de los pesos w1, w2 y w3 tal que minimizan el ECM (Error Cuadrático Medio) (el\n",
    "ECM es la función de costo para este problema), ¿cuál sería la regla de actualización de cada parámetro?. Implementar el algoritmo en Python (usar mini-batch), encontrar los valores óptimos para w1, w2 y w3 y reportar la evolución del ECM con el número de epochs."
   ]
  },
  {
   "cell_type": "code",
   "execution_count": 49,
   "metadata": {},
   "outputs": [],
   "source": [
    "#Inicializo los parámetros\n",
    "\n",
    "W1 = float(np.random.rand(1))\n",
    "W2 = float(np.random.rand(1))\n",
    "W3 =  float(np.random.rand(1))\n",
    "lr = 0.01\n",
    "epochs = 400\n",
    "batch = 100"
   ]
  },
  {
   "cell_type": "code",
   "execution_count": 50,
   "metadata": {},
   "outputs": [
    {
     "name": "stdout",
     "output_type": "stream",
     "text": [
      "W1 =  -0.8141189770783033\n",
      "W2 =  3.421678720441165\n",
      "W3 =  -0.4812880488207245\n"
     ]
    }
   ],
   "source": [
    "loss_historic = []\n",
    "for e in range(epochs):\n",
    "    for b in range(0,len(X),batch):\n",
    "        MSE_cum = 0\n",
    "        X_minibatch = X[b:b+batch]\n",
    "        Y_minibatch = Y[b:b+batch]\n",
    "        long_batch = X_minibatch.shape[0]\n",
    "        #Fordward\n",
    "        Y_hat = W1 * np.power(X_minibatch,2) + W2 * X_minibatch + W3\n",
    "        error = np.subtract(Y_minibatch, Y_hat)\n",
    "        error.resize(batch,1)\n",
    "        MSE = np.square(error).mean()\n",
    "        MSE_cum = MSE_cum + MSE\n",
    "        #Back\n",
    "        dMSE_derror = (1/long_batch)*error\n",
    "        dMSE_derror.resize(batch,1)\n",
    "        derror_dyhat = -1 \n",
    "        dyhat_W1 = np.power(X_minibatch,2)\n",
    "        dyhat_W1.resize(batch,1)\n",
    "        dyhat_W2 = X_minibatch\n",
    "        dyhat_W2.resize(batch,1)\n",
    "        dMSE_W1 = derror_dyhat * dyhat_W1.T @ dMSE_derror\n",
    "        dMSE_W2 = derror_dyhat * dyhat_W2.T @ dMSE_derror\n",
    "        dMSE_W3 = derror_dyhat * np.sum(dMSE_derror)\n",
    "        W1 = W1 - lr * dMSE_W1\n",
    "        W2 = W2 - lr * dMSE_W2\n",
    "        W3 = W3 - lr * dMSE_W3\n",
    "    loss_historic.append(MSE_cum)\n",
    "print(\"W1 = \", float(W1))\n",
    "print(\"W2 = \", float(W2))\n",
    "print(\"W3 = \", W3)    "
   ]
  },
  {
   "cell_type": "code",
   "execution_count": 51,
   "metadata": {},
   "outputs": [
    {
     "data": {
      "image/png": "[encoded data removed]",
      "text/plain": [
       "<Figure size 432x288 with 1 Axes>"
      ]
     },
     "metadata": {
      "needs_background": "light"
     },
     "output_type": "display_data"
    }
   ],
   "source": [
    "plt.figure(figsize=(6,4))\n",
    "plt.plot(loss_historic, color='blue', label='MSE')\n",
    "plt.grid(True)\n",
    "plt.legend()\n",
    "plt.show()"
   ]
  },
  {
   "cell_type": "code",
   "execution_count": 58,
   "metadata": {},
   "outputs": [
    {
     "data": {
      "image/png": "[encoded data removed]",
      "text/plain": [
       "<Figure size 432x288 with 1 Axes>"
      ]
     },
     "metadata": {
      "needs_background": "light"
     },
     "output_type": "display_data"
    }
   ],
   "source": [
    "plt.scatter(X, Y, c = 'r')\n",
    "plt.scatter(X, y_)\n",
    "plt.title('Y_hat vs Y')\n",
    "plt.show()"
   ]
  }
 ],
 "metadata": {
  "interpreter": {
   "hash": "a2ced859803238e76c8f9e1c09ef13675f14314bd3f3e87839a4f0bb215fc403"
  },
  "kernelspec": {
   "display_name": "Python 3.9.7",
   "language": "python",
   "name": "python3"
  },
  "language_info": {
   "codemirror_mode": {
    "name": "ipython",
    "version": 3
   },
   "file_extension": ".py",
   "mimetype": "text/x-python",
   "name": "python",
   "nbconvert_exporter": "python",
   "pygments_lexer": "ipython3",
   "version": "3.9.7"
  },
  "orig_nbformat": 4
 },
 "nbformat": 4,
 "nbformat_minor": 2
}
